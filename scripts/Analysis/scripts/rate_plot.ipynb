{
 "cells": [
  {
   "cell_type": "code",
   "execution_count": 1,
   "metadata": {
    "collapsed": true
   },
   "outputs": [],
   "source": [
    "# import relevant libraries\n",
    "import numpy as np\n",
    "import os\n",
    "import re\n",
    "import pathlib\n",
    "import healpy as hp\n",
    "import pickle\n",
    "import matplotlib.pyplot as plt\n",
    "import datetime\n",
    "from impactClass import impactClass\n",
    "from impactClass import impactClassList\n",
    "import copy\n",
    "from scipy.optimize import curve_fit\n",
    "import pandas as pd\n",
    "%matplotlib inline\n",
    "\n",
    "def getGRSSegments(filenames, grs = 1):\n",
    "    # Get list of segment times\n",
    "    regex = r'(\\d*)_grs%i.*'%(grs)\n",
    "    segments = []\n",
    "    for f in filenames:\n",
    "        if re.match(regex, f):\n",
    "            segments.append(int(re.findall(regex, f)[0]))\n",
    "    return segments"
   ]
  },
  {
   "cell_type": "code",
   "execution_count": 2,
   "metadata": {
    "collapsed": true
   },
   "outputs": [],
   "source": [
    "# setup directory structure\n",
    "p = pathlib.PurePath(os.getcwd())\n",
    "BASE_DIR = str(p.parent)\n",
    "dataDir = '/data'"
   ]
  },
  {
   "cell_type": "code",
   "execution_count": 3,
   "metadata": {
    "collapsed": false
   },
   "outputs": [
    {
     "name": "stdout",
     "output_type": "stream",
     "text": [
      "Reading through pickle files\n"
     ]
    }
   ],
   "source": [
    "# IRA\n",
    "# I think the only change to be made is the directory, \n",
    "# for you it should be directory = '/data'\n",
    "# This takes a little bit to load, ~ 1 minute, \n",
    "# do NOT try to load every segment, just the impacts\n",
    "impactList = impactClassList(grs = 1, getValid = True, BASE_DIR = BASE_DIR, \n",
    "                             dataDir = dataDir, include_marginal = False,\n",
    "                             directory = dataDir + '/ONLY_IMPACTS')\n"
   ]
  },
  {
   "cell_type": "code",
   "execution_count": 4,
   "metadata": {
    "collapsed": false
   },
   "outputs": [
    {
     "name": "stdout",
     "output_type": "stream",
     "text": [
      "Loading Valid Times\n",
      "<class 'pandas.core.frame.DataFrame'>\n",
      "<class 'pandas.core.frame.DataFrame'>\n",
      "<class 'pandas.core.frame.DataFrame'>\n"
     ]
    },
    {
     "data": {
      "image/png": "[encoded data removed]",
      "text/plain": [
       "<Figure size 1500x300 with 1 Axes>"
      ]
     },
     "execution_count": 4,
     "metadata": {},
     "output_type": "execute_result"
    },
    {
     "data": {
      "image/png": "[encoded data removed]",
      "text/plain": [
       "<Figure size 1500x300 with 1 Axes>"
      ]
     },
     "metadata": {},
     "output_type": "display_data"
    }
   ],
   "source": [
    "def getisGlitch(segment, df_veto):\n",
    "    try:\n",
    "        index = df_veto.index[df_veto['segment'] == int(segment)][0]\n",
    "    except IndexError:\n",
    "        # if not in the list, its not an Impact\n",
    "        return False\n",
    "    else:\n",
    "        return df_veto['isGlitch'].values[index]\n",
    "\n",
    "def getSearchTimes():\n",
    "    search_times = pd.read_csv(BASE_DIR + '/scripts/segment_list_NEW.txt',\n",
    "                               #dataDir + '/keyansegments.txt', \n",
    "                               #'/segment_list_NEW.txt',\n",
    "            header = 'infer', delim_whitespace = True)\n",
    "    \n",
    "    return search_times\n",
    "\n",
    "def getisValidSearch(segment, search_times):\n",
    "    # search_times = pd.read_csv(BASE_DIR + dataDir + '/segment_list_NEW.txt',\n",
    "    #        header = 'infer', delim_whitespace = True)\n",
    "    try:\n",
    "        index = search_times.index[search_times['segment'] == int(segment)][0]\n",
    "    except IndexError:\n",
    "        return False\n",
    "    else:\n",
    "        return True\n",
    "    \n",
    "def getisValidSearch_old(segment):\n",
    "    search_times = pd.read_csv(BASE_DIR + dataDir + '/segment_list.txt',\n",
    "            header = None, names = ['segment'], delim_whitespace = True)\n",
    "    try:\n",
    "        index = search_times.index[search_times['segment'] == int(segment)][0]\n",
    "    except IndexError:\n",
    "        return False\n",
    "    else:\n",
    "        return True\n",
    "\n",
    "\n",
    "def isValid(segment, df_veto, search_times):\n",
    "    # Both checks if the time searched is valid as well as \n",
    "    # if the time is a glitch\n",
    "\n",
    "    if getisValidSearch(segment, search_times) and not getisGlitch(segment, df_veto):\n",
    "        return True\n",
    "\n",
    "    # If it's not in the segment list then its not a good segment\n",
    "    return False\n",
    "\n",
    "def get_start_stop(segments, seg_lens = None):\n",
    "    segments = np.asarray(segments)\n",
    "    sort = segments.argsort()\n",
    "    segments = segments[sort]\n",
    "    \n",
    "    if seg_lens is not None:\n",
    "        seg_lens = np.asarray(seg_lens)\n",
    "        seg_lens = seg_lens[sort]\n",
    "\n",
    "    start_stop = []\n",
    "    i = 0\n",
    "    while i < len(segments):\n",
    "        start = segments[i]\n",
    "        stop = 0\n",
    "    \n",
    "        count = 1\n",
    "        while (stop == 0 and (i + count < len(segments))):\n",
    "            if seg_lens is None:\n",
    "                if start + 1648 * count + 5 > segments[i + count]:\n",
    "                    count += 1\n",
    "                else:\n",
    "                    stop = segments[i + (count - 1)]\n",
    "            else:\n",
    "                if start + np.sum(seg_lens[i:(i + count)]) > segments[i + count]:\n",
    "                    count += 1\n",
    "                else:\n",
    "                    stop = segments[i + (count - 1)]\n",
    "                    \n",
    "        if (i + count >= len(segments)):\n",
    "            stop = segments[i + (count - 1)]\n",
    "    \n",
    "        if start == stop:\n",
    "            if seg_lens is None:\n",
    "                stop = start + 1648\n",
    "            else:\n",
    "                stop = start + seg_lens[i]\n",
    "        \n",
    "        start_stop.append([start, stop])\n",
    "    \n",
    "        i += count\n",
    "    return start_stop\n",
    "\n",
    "def timeline(self, dataDir  = dataDir, timeDir = BASE_DIR + '/data/observed_times',\n",
    "             filenames = ['DRSlistDec.txt', 'LTPCMNTlist.txt', 'LTPlist2.txt'],\n",
    "             segments = None):\n",
    "\n",
    "    #import datetime\n",
    "    #import time\n",
    "    from astropy.time import Time\n",
    "    \n",
    "    #segments = np.loadtxt(BASE_DIR + dataDir + '/' + segment_file)\n",
    "    \n",
    "    def formatTime(gps):\n",
    "        t0 = Time(gps, format='gps')\n",
    "        t0 = Time(t0, format='iso')\n",
    "        return t0.datetime\n",
    "    \n",
    "    print(\"Loading Valid Times\")\n",
    "    \n",
    "    fig, ax = plt.subplots(figsize = (15, 3))\n",
    "    ax.set_title('Impact Timeline')\n",
    "    ax.yaxis.set_ticks_position('none') \n",
    "\n",
    "    regex = r'g_(\\d+)_(\\d+).tar.gz'\n",
    "    j = 0\n",
    "    colors = ['r', 'b', 'g']\n",
    "    \n",
    "    search_times = getSearchTimes()\n",
    "    \n",
    "    \n",
    "    LTP = search_times[search_times['control'] == 'LTP'].reset_index()\n",
    "    DRS = search_times[search_times['control'] == 'DRS'].reset_index()\n",
    "    BOTH = search_times[search_times['control'] == 'BOTH'].reset_index()\n",
    "    \n",
    "    controls = [LTP, DRS, BOTH]\n",
    "    \n",
    "    # Plot segments\n",
    "    \n",
    "    for c in controls:\n",
    "        print(type(c))\n",
    "        name = c['control'].values[0]\n",
    "        if name == 'LTP':\n",
    "            color = 'lightblue'\n",
    "        elif name == 'DRS':\n",
    "            color = 'pink'\n",
    "        else:\n",
    "            color = 'mediumslateblue'\n",
    "            \n",
    "        start_stop = get_start_stop(c['segment'], seg_lens = c['length'])\n",
    "        \n",
    "        for i, ss in enumerate(start_stop):\n",
    "            t0 = formatTime(ss[0])\n",
    "            t1 = formatTime(ss[1])\n",
    "                \n",
    "            if i == 0:\n",
    "                ax.axvspan(t0, t1, facecolor = color, alpha = 1, \n",
    "                           label = name)\n",
    "            else:\n",
    "                ax.axvspan(t0, t1, facecolor = color, alpha = 1)\n",
    "\n",
    "    #Plot impacts\n",
    "    for i, impact in enumerate(self.impact_list):\n",
    "        if i == 0: \n",
    "            ax.scatter(formatTime(impact.gps), .5, color = '#ffd27a', \n",
    "                       label = 'Impact', marker = 'o', s = 50, zorder = 10)\n",
    "        else:\n",
    "            ax.scatter(formatTime(impact.gps), .5, color = '#ffd27a', \n",
    "                       marker = 'o', s = 50, zorder = 10)\n",
    "    \n",
    "    fig.autofmt_xdate()\n",
    "    ax.yaxis.set_ticklabels([])\n",
    "\n",
    "    # OLD \n",
    "    direc = \"/Users/shouriha/LISAPathfinder/scripts/Analysis/data/OLD/OLD_TIMES_0526\"\n",
    "    df_veto = impactList.impact_list[0].getVetoList()\n",
    "    search_times = getSearchTimes()\n",
    "    for root, dirs, files in os.walk(direc):\n",
    "        filenames = files\n",
    "    old_impact_inv = getGRSSegments(filenames)\n",
    "    \n",
    "    old_impact = []\n",
    "    for o in old_impact_inv:\n",
    "        if isValid(o, df_veto, search_times) and getisValidSearch_old(o):\n",
    "            #not getisGlitch(o, df_veto):\n",
    "            old_impact.append(o)\n",
    "        else:\n",
    "            print(o, 'not Valid')\n",
    "\n",
    "    ax.legend()\n",
    "\n",
    "    return fig\n",
    "    \n",
    "    \n",
    "\n",
    "\n",
    "\n",
    "\n",
    "timeline(impactList)"
   ]
  },
  {
   "cell_type": "code",
   "execution_count": 5,
   "metadata": {
    "collapsed": true
   },
   "outputs": [],
   "source": [
    "regex = r'.*g_(\\d+)_(\\d+).tar.gz'\n",
    "timeDir = BASE_DIR + '/data/observed_times'\n",
    "filenames = ['DRSlistDec.txt', 'LTPCMNTlist.txt', 'LTPlist2.txt']\n",
    "write_file = open('segment_list_NEW.txt', 'w+')\n",
    "write_file.write('segment\\tlength\\tcontrol\\n')\n",
    "\n",
    "class seg:\n",
    "    def __init__(self, segment, length, command):\n",
    "        self.segment = segment\n",
    "        self.length = length\n",
    "        self.command = command\n",
    "        return\n",
    "\n",
    "segs = []\n",
    "for files in filenames:\n",
    "    t_file = timeDir +'/' + files\n",
    "    with open(t_file) as f:\n",
    "        content = f.readlines()\n",
    "        \n",
    "    if files == 'DRSlistDec.txt':\n",
    "        command = 'DRS'\n",
    "    elif files == 'LTPCMNTlist.txt':\n",
    "        command = 'BOTH'\n",
    "    else:\n",
    "        command = 'LTP'\n",
    "            \n",
    "    t0s = [int(re.findall(regex, c)[0][0]) for c in content]\n",
    "    seg_len = [int(re.findall(regex, c)[0][1]) for c in content]\n",
    "    \n",
    "    for i in range(len(t0s)):\n",
    "        segs.append(seg(t0s[i], seg_len[i], command))\n",
    "            \n",
    "    for i in range(len(t0s)):\n",
    "        write_file.write('%i\\t%i\\t%s\\n'%(t0s[i], seg_len[i], command))\n",
    "write_file.close()"
   ]
  },
  {
   "cell_type": "code",
   "execution_count": 6,
   "metadata": {
    "collapsed": false
   },
   "outputs": [
    {
     "name": "stdout",
     "output_type": "stream",
     "text": [
      "[  1362816.   2245698.   2504502.   2717442.   2764944.   3441438.\n",
      "   3909906.   4380535.   4714687.   4893229.   5388957.   6216774.\n",
      "   6373522.   6519444.   6675513.   6749223.   6940221.   7229571.\n",
      "   8337535.   9073778.   9145850.   9206456.   9363704.   9914072.\n",
      "   9981230.  10402196.  10474268.  10782212.  11085242.  11126192.\n",
      "  11412842.  11527502.  11732252.  11815790.  11846912.  12095888.\n",
      "  12886043.  12889319.  13136657.  13213643.  13297181.  13374167.\n",
      "  13426583.  13705043.  14026091.  14664911.  15212003.]\n"
     ]
    }
   ],
   "source": [
    "def getObservedTime(segment, dt = 0):\n",
    "    #dt is time from start of segment\n",
    "    searchTimes = getSearchTimes()\n",
    "    searchTimes = searchTimes.sort_values('segment').reset_index()\n",
    "    searchTimes['total'] = searchTimes.length.cumsum()\n",
    "    \n",
    "    line = searchTimes.loc[searchTimes['segment'] == segment]\n",
    "    return line['total'].values[0]\n",
    "\n",
    "obsTime = np.zeros(np.size(impactList.impact_list))\n",
    "for idx, impact0 in enumerate(impactList.impact_list):\n",
    "    obsTime[idx] = getObservedTime(impact0.segment, impact0.gps - impact0.segment)\n",
    "    \n",
    "print(obsTime)"
   ]
  },
  {
   "cell_type": "code",
   "execution_count": 11,
   "metadata": {
    "collapsed": false
   },
   "outputs": [
    {
     "name": "stdout",
     "output_type": "stream",
     "text": [
      "[ 3.53320738]\n",
      "[ 0.05669159]\n"
     ]
    },
    {
     "data": {
      "image/png": "[encoded data removed]",
      "text/plain": [
       "<Figure size 600x400 with 1 Axes>"
      ]
     },
     "metadata": {},
     "output_type": "display_data"
    }
   ],
   "source": [
    "dx = np.diff(obsTime)\n",
    "dxf = np.sort(dx)/86400.0\n",
    "N = np.size(dx)\n",
    "\n",
    "n = np.arange(1,N+1)/(N)\n",
    "\n",
    "\n",
    "def exp_rise(x, lamb):\n",
    "    return 1 - np.exp(-x/lamb)\n",
    "\n",
    "popt, pcov = curve_fit(exp_rise, dxf, n)\n",
    "print(popt)\n",
    "perr = np.sqrt(np.diag(pcov))\n",
    "print(perr)\n",
    "\n",
    "xdata = np.linspace(0,15,100)\n",
    "plt.rc('text', usetex=True)\n",
    "plt.plot(xdata, exp_rise(xdata, popt), 'r-')\n",
    "plt.scatter(dxf,n)\n",
    "plt.xlabel('Impact Interval[days]')\n",
    "plt.ylabel('Cummulative Probability')\n",
    "plt.legend(['$1-e^{-\\Delta t/2.94\\,d}$','Impacts'])\n",
    "plt.grid()\n",
    "plt.savefig('rateplot.eps')\n",
    "\n"
   ]
  },
  {
   "cell_type": "code",
   "execution_count": 12,
   "metadata": {
    "collapsed": false
   },
   "outputs": [
    {
     "name": "stdout",
     "output_type": "stream",
     "text": [
      "[  17.2439      1.70458    14.3609      0.868524    2.0234      1.04929\n",
      "    3.53687     2.87719    19.90045     8.59349     2.36781     1.5869\n",
      "   12.1315      0.73212    23.8412      0.880261    3.04177     0.57464\n",
      "    1.08954     0.852071  230.301       6.35836     0.641297    7.95639\n",
      "    1.62414    28.6351      0.809875   22.5077      0.917909   10.3189\n",
      "    4.51594     3.46537     1.23052     1.820925    2.47941     1.9271\n",
      "    1.04549     1.13761     1.27266    40.1941      1.497       1.15813\n",
      "   11.6822     13.9751      7.9972      1.24621     0.967592]\n"
     ]
    }
   ],
   "source": [
    "Pmed = np.zeros(np.size(impactList.impact_list))\n",
    "for idx, impact0 in enumerate(impactList.impact_list):\n",
    "    Pmed[idx] = np.median(impact0.Ptot)\n",
    "    \n",
    "print(Pmed)\n",
    "\n"
   ]
  },
  {
   "cell_type": "code",
   "execution_count": 19,
   "metadata": {
    "collapsed": false
   },
   "outputs": [
    {
     "name": "stdout",
     "output_type": "stream",
     "text": [
      "[  2717442.   3441438.   6519444.   6749223.   7229571.   8337535.\n",
      "   9073778.   9363704.  10474268.  11085242.  11732252.  12886043.\n",
      "  12889319.  13374167.  15212003.]\n",
      "[  2245698.   2764944.   3909906.   4380535.   5388957.   6216774.\n",
      "   6940221.   9981230.  11527502.  11815790.  11846912.  12095888.\n",
      "  13136657.  13297181.  14664911.]\n",
      "[  1362816.   2504502.   4714687.   4893229.   6373522.   6675513.\n",
      "   9145850.   9206456.   9914072.  10402196.  10782212.  11126192.\n",
      "  11412842.  13213643.  13426583.  13705043.  14026091.]\n"
     ]
    },
    {
     "data": {
      "image/png": "[encoded data removed]",
      "text/plain": [
       "<Figure size 600x400 with 1 Axes>"
      ]
     },
     "metadata": {},
     "output_type": "display_data"
    }
   ],
   "source": [
    "isort = np.argsort(Pmed)\n",
    "N = np.size(isort)\n",
    "Nchunk = np.floor(N/3.0)\n",
    "obsTimeLow = np.sort(obsTime[isort[0:np.int(Nchunk)]])\n",
    "obsTimeMed = np.sort(obsTime[isort[np.int(Nchunk):2*np.int(Nchunk)]])\n",
    "obsTimeHigh = np.sort(obsTime[isort[2*np.int(Nchunk):np.int(N)]])\n",
    "print(obsTimeLow)\n",
    "print(obsTimeMed)\n",
    "print(obsTimeHigh)\n",
    "\n",
    "dxlow = np.diff(obsTimeLow)\n",
    "dxflow = np.sort(dxlow)/86400.0\n",
    "Nlow = np.size(dxlow)\n",
    "dxmed = np.diff(obsTimeMed)\n",
    "dxfmed = np.sort(dxmed)/86400.0\n",
    "Nmed = np.size(dxmed)\n",
    "dxhi = np.diff(obsTimeHigh)\n",
    "dxfhi = np.sort(dxhi)/86400.0\n",
    "Nhi = np.size(dxhi)\n",
    "\n",
    "\n",
    "\n",
    "nlow = np.arange(1,Nlow+1)/(Nlow)\n",
    "nmed = np.arange(1,Nmed+1)/(Nmed)\n",
    "nhi = np.arange(1,Nhi+1)/(Nhi)\n",
    "plt.scatter(dxflow,nlow)\n",
    "plt.scatter(dxfmed,nmed)\n",
    "plt.scatter(dxfhi,nhi)\n",
    "plt.xlabel('Impact Interval[days]')\n",
    "plt.ylabel('Cummulative Probability')\n",
    "plt.legend(['low','medium','hi'])\n",
    "plt.grid()\n"
   ]
  }
 ],
 "metadata": {
  "kernelspec": {
   "display_name": "Python 3",
   "language": "python",
   "name": "python3"
  },
  "language_info": {
   "codemirror_mode": {
    "name": "ipython",
    "version": 3
   },
   "file_extension": ".py",
   "mimetype": "text/x-python",
   "name": "python",
   "nbconvert_exporter": "python",
   "pygments_lexer": "ipython3",
   "version": "3.5.3"
  }
 },
 "nbformat": 4,
 "nbformat_minor": 0
}
