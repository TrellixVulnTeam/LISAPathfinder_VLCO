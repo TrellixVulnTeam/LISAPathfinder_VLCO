{
 "cells": [
  {
   "cell_type": "code",
   "execution_count": 1,
   "metadata": {
    "collapsed": false
   },
   "outputs": [],
   "source": [
    "# import relevant libraries\n",
    "import numpy as np\n",
    "import re\n",
    "import glob\n",
    "import os\n",
    "import pathlib\n",
    "import matplotlib.pyplot as plt\n",
    "from matplotlib.collections import PatchCollection\n",
    "from matplotlib.patches import Rectangle\n",
    "from matplotlib.patches import Polygon\n",
    "import matplotlib.lines as mlines\n",
    "import datetime\n",
    "from impactClass import impactClass\n",
    "%matplotlib inline"
   ]
  },
  {
   "cell_type": "code",
   "execution_count": 2,
   "metadata": {
    "collapsed": false
   },
   "outputs": [],
   "source": [
    "# define method to load data from files\n",
    "def loadSegmentFile(filename):\n",
    "    file = open(filename, mode = 'r')\n",
    "    lines = file.readlines()\n",
    "    file.close()\n",
    "    N = len(lines)\n",
    "    gps = np.zeros([N,1])\n",
    "    dur = np.zeros([N,1])\n",
    "    for ii in range(0,N):\n",
    "        base = os.path.basename(lines[ii])\n",
    "        x = re.findall(r'g_(\\d+)_(\\d+).tar.gz\\n',base)\n",
    "        y = x.pop(0)\n",
    "        gps[ii] = float(y[0])\n",
    "        dur[ii] = float(y[1])\n",
    "    out = {'gps' : gps, 'dur' : dur}\n",
    "    return out\n",
    "\n",
    "# define method to find large chunks\n",
    "def getPlotSegs(segs,thresh=86400):\n",
    "    gps = segs['gps']\n",
    "    dur = segs['dur']\n",
    "    gaps = np.zeros([len(gps),1])\n",
    "    for ii in range(0,len(gps)-1):\n",
    "        start = gps[ii]\n",
    "        stop = gps[ii]+dur[ii]\n",
    "        gaps[ii] = gps[ii+1]-stop\n",
    "        \n",
    "    bigIdx = np.where(gaps > thresh)[0]\n",
    "    bigStarts = gps[np.append(0,bigIdx+1)]\n",
    "    bigStops = gps[np.append(bigIdx,len(gaps)-1)]+dur[np.append(bigIdx,len(gaps)-1)]\n",
    "    bigDurs = bigStops-bigStarts\n",
    "    out = {'starts' : bigStarts, 'stops' : bigStops, 'length' : bigDurs, 'idx' : np.append(0,bigIdx+1)}\n",
    "    return out\n",
    "\n",
    "# make patch rectangles\n",
    "def makePatches(segs,facecolor = 'r',yrange = (0,1),thresh=86400):\n",
    "    # find big segments\n",
    "    bigSegs = getPlotSegs(segs,thresh)\n",
    "    \n",
    "    # Create list for all the error patches\n",
    "    boxes = []\n",
    "\n",
    "    # Loop over data points; create box from errors at each point\n",
    "    st = bigSegs['starts']\n",
    "    ln = bigSegs['length']\n",
    "    for ii in range(0,len(st)):\n",
    "        rect = Rectangle((st[ii], yrange[0]), ln[ii], yrange[1])\n",
    "        boxes.append(rect)\n",
    "\n",
    "    # Create patch collection with specified colour/alpha\n",
    "    pc = PatchCollection(boxes, facecolor=facecolor,edgecolor='None', alpha=1.0)\n",
    "    \n",
    "    # return patches\n",
    "    return pc"
   ]
  },
  {
   "cell_type": "code",
   "execution_count": 55,
   "metadata": {
    "collapsed": true
   },
   "outputs": [],
   "source": [
    "# load segment data\n",
    "p = pathlib.PurePath(os.getcwd())\n",
    "BASE_DIR = str(p.parent)\n",
    "dataDir = '/data'\n",
    "plotDir = '/plots'\n",
    "drs = loadSegmentFile(BASE_DIR + dataDir + '/observed_times/DRSlistDec.txt')\n",
    "ltp = loadSegmentFile(BASE_DIR + dataDir + '/observed_times/LTPlist2.txt')\n",
    "hybrid = loadSegmentFile(BASE_DIR + dataDir + '/observed_times/LTPCMNTlist.txt')\n"
   ]
  },
  {
   "cell_type": "code",
   "execution_count": 71,
   "metadata": {
    "collapsed": false
   },
   "outputs": [
    {
     "name": "stdout",
     "output_type": "stream",
     "text": [
      "Total time = 4343 hours\n",
      "DRS time = 796 hours\n",
      "LTP time = 3484 hours\n",
      "Hybrid time = 61 hours\n"
     ]
    },
    {
     "data": {
      "text/plain": [
       "(-1.1005565038946594,\n",
       " 1.1014275803068301,\n",
       " -1.1009577254928333,\n",
       " 1.1000456059758492)"
      ]
     },
     "execution_count": 71,
     "metadata": {},
     "output_type": "execute_result"
    },
    {
     "data": {
      "image/png": "[encoded data removed]",
      "text/plain": [
       "<Figure size 600x400 with 1 Axes>"
      ]
     },
     "metadata": {},
     "output_type": "display_data"
    }
   ],
   "source": [
    "print('Total time = %d hours' % ((np.sum(ltp['dur'])+np.sum(drs['dur'])+np.sum(hybrid['dur']))/3600))\n",
    "print('DRS time = %d hours' % (np.sum(drs['dur'])/3600))\n",
    "print('LTP time = %d hours' % (np.sum(ltp['dur'])/3600))\n",
    "print('Hybrid time = %d hours' % (np.sum(hybrid['dur'])/3600))\n",
    "fig1, ax1 = plt.subplots()\n",
    "plt.pie(((np.sum(ltp['dur'])/3600,np.sum(drs['dur'])/3600,np.sum(hybrid['dur'])/3600)),\n",
    "        labels=('LTP','DRS','hybrid'),autopct='%1.1f%%',startangle=90)\n",
    "ax1.axis('equal')"
   ]
  },
  {
   "cell_type": "code",
   "execution_count": 4,
   "metadata": {
    "collapsed": false
   },
   "outputs": [
    {
     "name": "stdout",
     "output_type": "stream",
     "text": [
      "54 impacts loaded\n"
     ]
    }
   ],
   "source": [
    "# load impact data\n",
    "impFiles = glob.glob(BASE_DIR + dataDir + '/ONLY_IMPACTS/*_grs1.pickle')\n",
    "imps = []\n",
    "for idx,impFile in enumerate(impFiles):\n",
    "    imp = impactClass(impFile, dataDir = dataDir, BASE_DIR = BASE_DIR)\n",
    "    if imp.isImpact :\n",
    "        imp.SCtoSun()\n",
    "        imp.findSkyAngles()\n",
    "        imps.append(imp)\n",
    "\n",
    "print('%d impacts loaded' % len(imps))\n"
   ]
  },
  {
   "cell_type": "code",
   "execution_count": 5,
   "metadata": {
    "collapsed": true
   },
   "outputs": [],
   "source": [
    "gps = np.zeros((len(imps),1))\n",
    "P = np.zeros((len(imps),1))\n",
    "for ii in range(0,len(imps)):\n",
    "    gps[ii] = imps[ii].gps\n",
    "    P[ii] = np.median(imps[ii].Ptot)"
   ]
  },
  {
   "cell_type": "code",
   "execution_count": 59,
   "metadata": {
    "collapsed": false
   },
   "outputs": [
    {
     "data": {
      "image/png": "[encoded data removed]",
      "text/plain": [
       "<Figure size 1000x300 with 2 Axes>"
      ]
     },
     "metadata": {},
     "output_type": "display_data"
    }
   ],
   "source": [
    "fig,ax = plt.subplots(1)\n",
    "\n",
    "pcDRS = makePatches(drs,'lightpink',(1e-1,3e2))\n",
    "pcLTP = makePatches(ltp,'lightblue',(1e-1,3e2))\n",
    "pcHybrid = makePatches(hybrid,'lightgreen',(1e-1,3e2))\n",
    "\n",
    "# Add collection to axes\n",
    "ax.add_collection(pcLTP)\n",
    "ax.add_collection(pcDRS)\n",
    "ax.add_collection(pcHybrid)\n",
    "\n",
    "ax.scatter(gps,P,facecolor='gold',edgecolor='black')\n",
    "ax.set_yscale('log')\n",
    "ax.yaxis.grid(True)\n",
    "ax2 = ax.twiny()\n",
    "\n",
    "xlabs = ('2016-03-01','2016-06-01','2016-09-01','2016-12-01','2017-03-01','2017-06-01')\n",
    "xlocs = np.zeros((len(xlabs),1))\n",
    "for ii in range(0,len(xlocs)):\n",
    "    xlocs[ii]= (datetime.datetime.strptime(xlabs[ii],'%Y-%m-%d')-datetime.datetime(1970,1,1)).total_seconds()\n",
    "    xlocs[ii]=xlocs[ii]-315964783\n",
    "\n",
    "ax.set_xticks(xlocs)\n",
    "ax.set_xticklabels(xlabs,rotation=0)\n",
    "ax.xaxis.grid(True,linestyle='--',color='black')\n",
    "axlim = ax.get_xlim()\n",
    "ax.set_ylabel('$P\\,[\\mu Ns]$')\n",
    "\n",
    "\n",
    "t0 = ((datetime.datetime.strptime('2015-12-03','%Y-%m-%d')-datetime.datetime(1970,1,1)).total_seconds())-315964783\n",
    "xlabs = (100,150,200,250,300,350,400,450,500,550)\n",
    "xlocs = np.zeros((len(xlabs),1))\n",
    "for ii in range(0,len(xlocs)):\n",
    "    xlocs[ii]= t0+xlabs[ii]*86400\n",
    "    \n",
    "ax2.set_xlim(axlim)\n",
    "ax2.xaxis.tick_top()\n",
    "ax2.set_xticks(xlocs)\n",
    "ax2.set_xticklabels(xlabs)\n",
    "ax2.set_xlabel('Days Since Launch (2015-12-03)')\n",
    "ax2.xaxis.grid(True)\n",
    "\n",
    "#plt.xticks(xlocs,xlabs)\n",
    "fig.set_size_inches(10,3)\n",
    "\n",
    "\n",
    "handles = []\n",
    "handles.append(Polygon([(0,0),(10,0),(0,-10)],facecolor='lightblue',label='LTP'))\n",
    "handles.append(Polygon([(0,0),(10,0),(0,-10)],facecolor='lightpink',label='DRS'))\n",
    "handles.append(Polygon([(0,0),(10,0),(0,-10)],facecolor='lightgreen',label='Hybrid'))\n",
    "handles.append(mlines.Line2D([], [], linestyle='none', markerfacecolor='gold', markeredgecolor = 'black',marker='o',markersize=7, label='impacts'))\n",
    "#handles.append(Circle((0,0),facecolor='gold',edgecolor = 'black',label='impacts'))\n",
    "plt.legend(handles = handles, loc = 'upper left',bbox_to_anchor=(1,1))\n",
    "plt.show()\n",
    "\n",
    "fig.savefig(BASE_DIR + plotDir + '/timeline.eps', format = 'eps',bbox_inches='tight')"
   ]
  }
 ],
 "metadata": {
  "kernelspec": {
   "display_name": "Python 3",
   "language": "python",
   "name": "python3"
  },
  "language_info": {
   "codemirror_mode": {
    "name": "ipython",
    "version": 3
   },
   "file_extension": ".py",
   "mimetype": "text/x-python",
   "name": "python",
   "nbconvert_exporter": "python",
   "pygments_lexer": "ipython3",
   "version": "3.5.3"
  }
 },
 "nbformat": 4,
 "nbformat_minor": 0
}
